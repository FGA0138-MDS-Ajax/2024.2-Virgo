{
 "cells": [
  {
   "cell_type": "markdown",
   "metadata": {},
   "source": [
    "Libraries: Tensorflow, tensorflow-gpu, opencv-python matplotlib\n",
    "import os !!!\n",
    "pip 24.2 (python 3.12)\n",
    "\n",
    "Objetivos:\n",
    "1. Construir pipeline\n",
    "2. Preprocessamento de imagens\n",
    "3. Criar um classificador (definir classificador)\n",
    "4. Testar acurácia e desempenho\n",
    "5. Salvar e preparar para deployment\n"
   ]
  }
 ],
 "metadata": {
  "kernelspec": {
   "display_name": "Python 3",
   "language": "python",
   "name": "python3"
  },
  "language_info": {
   "codemirror_mode": {
    "name": "ipython",
    "version": 3
   },
   "file_extension": ".py",
   "mimetype": "text/x-python",
   "name": "python",
   "nbconvert_exporter": "python",
   "pygments_lexer": "ipython3",
   "version": "3.12.3"
  }
 },
 "nbformat": 4,
 "nbformat_minor": 2
}
